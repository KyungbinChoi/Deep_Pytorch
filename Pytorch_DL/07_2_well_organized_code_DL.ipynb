{
 "cells": [
  {
   "cell_type": "code",
   "execution_count": 1,
   "metadata": {},
   "outputs": [
    {
     "name": "stdout",
     "output_type": "stream",
     "text": [
      "1.13.0\n"
     ]
    }
   ],
   "source": [
    "import torch\n",
    "print(torch.__version__)"
   ]
  },
  {
   "cell_type": "code",
   "execution_count": 2,
   "metadata": {},
   "outputs": [],
   "source": [
    "import torchvision\n",
    "import torchvision.transforms as transforms\n",
    "import torch.nn as nn\n",
    "import torch.nn.functional as F\n",
    "import torch.optim as optim\n",
    "import argparse\n",
    "import numpy as np\n",
    "import matplotlib.pyplot as plt\n",
    "import torch.optim as optim"
   ]
  },
  {
   "cell_type": "code",
   "execution_count": 3,
   "metadata": {},
   "outputs": [
    {
     "name": "stdout",
     "output_type": "stream",
     "text": [
      "Files already downloaded and verified\n",
      "Files already downloaded and verified\n"
     ]
    }
   ],
   "source": [
    "transform = transforms.Compose(\n",
    "    [transforms.ToTensor(),\n",
    "     transforms.Normalize((0.5, 0.5, 0.5), (0.5, 0.5, 0.5))])\n",
    "\n",
    "trainset = torchvision.datasets.CIFAR10(root='./CIFAR10', train=True,\n",
    "                                        download=True, transform=transform)\n",
    "trainset, valset = torch.utils.data.random_split(trainset, [40000, 10000])\n",
    "testset = torchvision.datasets.CIFAR10(root='./CIFAR10', train=False,\n",
    "                                       download=True, transform=transform)\n",
    "\n",
    "\n",
    "trainloader = torch.utils.data.DataLoader(trainset, batch_size=32,\n",
    "                                          shuffle=True)\n",
    "valloader = torch.utils.data.DataLoader(valset, batch_size=32, \n",
    "                                        shuffle=False)\n",
    "testloader = torch.utils.data.DataLoader(testset, batch_size=32,\n",
    "                                         shuffle=False)\n",
    "\n",
    "classes = ('plane', 'car', 'bird', 'cat',\n",
    "           'deer', 'dog', 'frog', 'horse', 'ship', 'truck')"
   ]
  },
  {
   "cell_type": "code",
   "execution_count": 7,
   "metadata": {},
   "outputs": [
    {
     "data": {
      "image/png": "[encoded data removed]",
      "text/plain": [
       "<Figure size 640x480 with 1 Axes>"
      ]
     },
     "metadata": {},
     "output_type": "display_data"
    },
    {
     "name": "stdout",
     "output_type": "stream",
     "text": [
      "frog  plane truck frog \n",
      "<class 'torch.Tensor'> torch.Size([4, 3, 32, 32])\n",
      "<class 'torch.Tensor'> torch.Size([4])\n"
     ]
    }
   ],
   "source": [
    "# functions to show an image\n",
    "\n",
    "batch_size = 4\n",
    "def imshow(img):\n",
    "    img = img / 2 + 0.5     # unnormalize\n",
    "    npimg = img.numpy()\n",
    "    plt.imshow(np.transpose(npimg, (1, 2, 0)))\n",
    "    plt.show()\n",
    "\n",
    "\n",
    "# get some random training images\n",
    "dataiter = iter(trainloader)\n",
    "images, labels = next(dataiter)\n",
    "\n",
    "# show images\n",
    "imshow(torchvision.utils.make_grid(images))\n",
    "# print labels\n",
    "print(' '.join(f'{classes[labels[j]]:5s}' for j in range(batch_size)))\n",
    "print(type(images), images.shape)\n",
    "print(type(labels), labels.shape)"
   ]
  },
  {
   "cell_type": "code",
   "execution_count": 8,
   "metadata": {},
   "outputs": [],
   "source": [
    "class MLP(nn.Module):\n",
    "    def __init__(self, in_dim, out_dim, hid_dim, n_layer, act):\n",
    "        super(MLP, self).__init__()\n",
    "        self.in_dim= in_dim\n",
    "        self.out_dim = out_dim\n",
    "        self.hid_dim = hid_dim\n",
    "        self.n_layer = n_layer\n",
    "        self.act = act\n",
    "\n",
    "        self.fc = nn.Linear(self.in_dim, self.hid_dim)\n",
    "        self.linears = nn.ModuleList()\n",
    "\n",
    "        for i in range(self.n_layer-1):\n",
    "            self.linears.append(nn.Linear(self.hid_dim, self.hid_dim))\n",
    "        self.fc2 = nn.Linear(self.hid_dim,self.out_dim)\n",
    "        \n",
    "        if self.act=='relu':\n",
    "            self.act = nn.ReLU()        \n",
    "\n",
    "    def forward(self, x):\n",
    "        x = self.act(self.fc(x))\n",
    "        for fc in self.linears:\n",
    "            x = self.act(fc(x))\n",
    "        x = self.fc2(x)\n",
    "        return x\n",
    "\n",
    "model = MLP(3*32*32, 10, 128, 3, 'relu')"
   ]
  },
  {
   "cell_type": "code",
   "execution_count": 9,
   "metadata": {},
   "outputs": [
    {
     "name": "stdout",
     "output_type": "stream",
     "text": [
      "MLP(\n",
      "  (fc): Linear(in_features=3072, out_features=128, bias=True)\n",
      "  (linears): ModuleList(\n",
      "    (0): Linear(in_features=128, out_features=128, bias=True)\n",
      "    (1): Linear(in_features=128, out_features=128, bias=True)\n",
      "    (2): Linear(in_features=128, out_features=128, bias=True)\n",
      "  )\n",
      "  (fc2): Linear(in_features=128, out_features=10, bias=True)\n",
      "  (act): ReLU()\n",
      ")\n"
     ]
    }
   ],
   "source": [
    "print(model)"
   ]
  },
  {
   "cell_type": "code",
   "execution_count": 10,
   "metadata": {},
   "outputs": [],
   "source": [
    "\n",
    "\n",
    "criterion = nn.CrossEntropyLoss()\n",
    "optimizer = optim.SGD(model.parameters(), lr=0.001, momentum=0.9)"
   ]
  },
  {
   "cell_type": "code",
   "execution_count": 13,
   "metadata": {},
   "outputs": [
    {
     "name": "stdout",
     "output_type": "stream",
     "text": [
      "[1,  2000] loss: 2.162\n",
      "[1,  4000] loss: 1.878\n",
      "[1,  6000] loss: 1.787\n",
      "[1,  8000] loss: 1.699\n",
      "[1, 10000] loss: 1.664\n",
      "[2,  2000] loss: 1.591\n",
      "[2,  4000] loss: 1.570\n",
      "[2,  6000] loss: 1.530\n",
      "[2,  8000] loss: 1.532\n",
      "[2, 10000] loss: 1.509\n",
      "Finished Training\n"
     ]
    }
   ],
   "source": [
    "# training step\n",
    "for epoch in range(2):  # loop over the dataset multiple times\n",
    "\n",
    "    running_loss = 0.0\n",
    "    for i, data in enumerate(trainloader, 0):\n",
    "        # get the inputs; data is a list of [inputs, labels]\n",
    "        inputs, labels = data\n",
    "        inputs = inputs.view(-1, 3072)\n",
    "        # zero the parameter gradients\n",
    "        optimizer.zero_grad()\n",
    "\n",
    "        # forward + backward + optimize\n",
    "        outputs = model(inputs)\n",
    "        loss = criterion(outputs, labels)\n",
    "        loss.backward()\n",
    "        optimizer.step()\n",
    "\n",
    "        # print statistics\n",
    "        running_loss += loss.item()\n",
    "        if i % 2000 == 1999:    # print every 2000 mini-batches\n",
    "            print(f'[{epoch + 1}, {i + 1:5d}] loss: {running_loss / 2000:.3f}')\n",
    "            running_loss = 0.0\n",
    "\n",
    "print('Finished Training')"
   ]
  },
  {
   "cell_type": "code",
   "execution_count": 14,
   "metadata": {},
   "outputs": [
    {
     "data": {
      "image/png": "[encoded data removed]",
      "text/plain": [
       "<Figure size 640x480 with 1 Axes>"
      ]
     },
     "metadata": {},
     "output_type": "display_data"
    },
    {
     "name": "stdout",
     "output_type": "stream",
     "text": [
      "GroundTruth:  cat   ship  ship  plane\n"
     ]
    }
   ],
   "source": [
    "dataiter = iter(testloader)\n",
    "images, labels = next(dataiter)\n",
    "\n",
    "# print images\n",
    "imshow(torchvision.utils.make_grid(images))\n",
    "print('GroundTruth: ', ' '.join(f'{classes[labels[j]]:5s}' for j in range(4)))"
   ]
  },
  {
   "cell_type": "code",
   "execution_count": 20,
   "metadata": {},
   "outputs": [
    {
     "name": "stdout",
     "output_type": "stream",
     "text": [
      "Accuracy and loss of the network on the 10000 test images: Acc:: 47.42 , Loss :: 1.49\n"
     ]
    }
   ],
   "source": [
    "# measure validation acc & loss\n",
    "correct = 0\n",
    "total = 0\n",
    "val_loss = 0\n",
    "# since we're not training, we don't need to calculate the gradients for our outputs\n",
    "with torch.no_grad():\n",
    "    for data in valloader:\n",
    "        images, labels = data\n",
    "        images = images.view(-1, 3072)\n",
    "        # calculate outputs by running images through the network\n",
    "        outputs = model(images)\n",
    "        loss = criterion(outputs, labels)\n",
    "        val_loss += loss.item()\n",
    "        # the class with the highest energy is what we choose as prediction\n",
    "        _, predicted = torch.max(outputs.data, 1)\n",
    "        total += labels.size(0)\n",
    "        correct += (predicted == labels).sum().item()\n",
    "    val_loss = val_loss / len(valloader)\n",
    "acc = 100 * correct / total\n",
    "print('Accuracy and loss of the network on the 10000 test images: Acc:: {:2.2f} , Loss :: {:2.2f}'.format(acc, val_loss))"
   ]
  },
  {
   "cell_type": "code",
   "execution_count": null,
   "metadata": {},
   "outputs": [],
   "source": [
    "# measure test acc\n",
    "correct = 0\n",
    "total = 0\n",
    "# since we're not training, we don't need to calculate the gradients for our outputs\n",
    "with torch.no_grad():\n",
    "    for data in testloader:\n",
    "        images, labels = data\n",
    "        images = images.view(-1, 3072)\n",
    "        # calculate outputs by running images through the network\n",
    "        outputs = model(images)\n",
    "        # the class with the highest energy is what we choose as prediction\n",
    "        _, predicted = torch.max(outputs.data, 1)\n",
    "        total += labels.size(0)\n",
    "        correct += (predicted == labels).sum().item()\n",
    "\n",
    "    test_acc = 100 * correct // total\n",
    "\n",
    "print(f'Accuracy of the network on the 10000 test images: {100 * correct // total} %')"
   ]
  },
  {
   "cell_type": "markdown",
   "metadata": {},
   "source": [
    "## Experiment code lines with function call"
   ]
  },
  {
   "cell_type": "code",
   "execution_count": 4,
   "metadata": {},
   "outputs": [],
   "source": [
    "class MLP(nn.Module):\n",
    "    def __init__(self, in_dim, out_dim, hid_dim, n_layer, act):\n",
    "        super(MLP, self).__init__()\n",
    "        self.in_dim= in_dim\n",
    "        self.out_dim = out_dim\n",
    "        self.hid_dim = hid_dim\n",
    "        self.n_layer = n_layer\n",
    "        self.act = act\n",
    "\n",
    "        self.fc = nn.Linear(self.in_dim, self.hid_dim)\n",
    "        self.linears = nn.ModuleList()\n",
    "\n",
    "        for i in range(self.n_layer-1):\n",
    "            self.linears.append(nn.Linear(self.hid_dim, self.hid_dim))\n",
    "        self.fc2 = nn.Linear(self.hid_dim,self.out_dim)\n",
    "        \n",
    "        if self.act=='relu':\n",
    "            self.act = nn.ReLU()        \n",
    "\n",
    "    def forward(self, x):\n",
    "        x = self.act(self.fc(x))\n",
    "        for fc in self.linears:\n",
    "            x = self.act(fc(x))\n",
    "        x = self.fc2(x)\n",
    "        return x"
   ]
  },
  {
   "cell_type": "code",
   "execution_count": 5,
   "metadata": {},
   "outputs": [
    {
     "data": {
      "text/plain": [
       "<torch._C.Generator at 0x104fbc770>"
      ]
     },
     "execution_count": 5,
     "metadata": {},
     "output_type": "execute_result"
    }
   ],
   "source": [
    "parser = argparse.ArgumentParser()\n",
    "args = parser.parse_args(\"\")\n",
    "\n",
    "# hyperparameter set\n",
    "args.n_layer = 5\n",
    "args.in_dim = 3072\n",
    "args.out_dim = 10\n",
    "args.hid_dim = 100\n",
    "args.act = 'relu'\n",
    "args.lr = 0.001\n",
    "args.mm = 0.9\n",
    "args.epochs = 32\n",
    "seed = 42\n",
    "np.random.seed(seed)\n",
    "torch.manual_seed(seed)"
   ]
  },
  {
   "cell_type": "code",
   "execution_count": 6,
   "metadata": {},
   "outputs": [],
   "source": [
    "def experiment(args):\n",
    "    step_results = {}\n",
    "    step_results['Train_Loss'] = list()\n",
    "    step_results['Val_Loss'] = list()\n",
    "    step_results['Val_Acc'] = list()\n",
    "\n",
    "\n",
    "    mps_device = torch.device(\"mps\")\n",
    "    model = MLP(args.in_dim, args.out_dim, args.hid_dim, args.n_layer, args.act)\n",
    "    print(model)\n",
    "    model.to(mps_device)\n",
    "    criterion = nn.CrossEntropyLoss()\n",
    "    optimizer = optim.SGD(model.parameters(), lr=args.lr, momentum=args.mm)\n",
    "        \n",
    "    \n",
    "    for epoch in range(args.epochs):  # loop over the dataset multiple times\n",
    "        # ==== training step\n",
    "        running_loss = 0.0\n",
    "        train_loss = 0.0\n",
    "        for i, data in enumerate(trainloader, 0):\n",
    "            # get the inputs; data is a list of [inputs, labels]\n",
    "            inputs, labels = data\n",
    "            inputs = inputs.to(mps_device)\n",
    "            labels = labels.to(mps_device)\n",
    "            inputs = inputs.view(-1, 3072)\n",
    "            # zero the parameter gradients\n",
    "            optimizer.zero_grad()\n",
    "\n",
    "            # forward + backward + optimize\n",
    "            outputs = model(inputs)\n",
    "            loss = criterion(outputs, labels)\n",
    "            loss.backward()\n",
    "            optimizer.step()\n",
    "\n",
    "        # print statistics\n",
    "        running_loss += loss.item()\n",
    "        train_loss += loss.item()\n",
    "        if i % 2000 == 1999:    # print every 2000 mini-batches\n",
    "            print(f'[{epoch + 1}, {i + 1:5d}] loss: {running_loss / 2000:.3f}')\n",
    "            running_loss = 0.0\n",
    "\n",
    "        # ==== validation step\n",
    "        # measure validation acc & loss\n",
    "        correct = 0\n",
    "        total = 0\n",
    "        val_loss = 0\n",
    "        # since we're not training, we don't need to calculate the gradients for our outputs\n",
    "        with torch.no_grad():\n",
    "            for data in valloader:\n",
    "                images, labels = data\n",
    "                images = images.to(mps_device)\n",
    "                labels = labels.to(mps_device)\n",
    "                images = images.view(-1, 3072)\n",
    "                # calculate outputs by running images through the network\n",
    "                outputs = model(images)\n",
    "                loss = criterion(outputs, labels)\n",
    "                val_loss += loss.item()\n",
    "                # the class with the highest energy is what we choose as prediction\n",
    "                _, predicted = torch.max(outputs.data, 1)\n",
    "                total += labels.size(0)\n",
    "                correct += (predicted == labels).sum().item()\n",
    "            val_loss = val_loss / len(valloader)\n",
    "        val_acc = 100 * correct / total\n",
    "        print('Epoch : {}, Train Loss : {:2.2f}, Val Loss : {:2.2f}, Val Acc : {:2.2f}'.format(epoch+1, train_loss, val_loss, val_acc))\n",
    "        step_results['Train_Loss'].append(train_loss)\n",
    "        step_results['Val_Loss'].append(val_loss)\n",
    "        step_results['Val_Acc'].append(val_acc)\n",
    "\n",
    "    # === Evaluation for test set\n",
    "    # measure test acc\n",
    "    correct = 0\n",
    "    total = 0\n",
    "    # since we're not training, we don't need to calculate the gradients for our outputs\n",
    "    with torch.no_grad():\n",
    "        for data in testloader:\n",
    "            images, labels = data\n",
    "            images = images.to(mps_device)\n",
    "            labels = labels.to(mps_device)\n",
    "            images = images.view(-1, 3072)\n",
    "            # calculate outputs by running images through the network\n",
    "            outputs = model(images)\n",
    "            # the class with the highest energy is what we choose as prediction\n",
    "            _, predicted = torch.max(outputs.data, 1)\n",
    "            total += labels.size(0)\n",
    "            correct += (predicted == labels).sum().item()\n",
    "\n",
    "        test_acc = 100 * correct // total\n",
    "\n",
    "    \n",
    "    print('Test acc : {:2.2f}'.format(test_acc))\n",
    "        \n",
    "    return step_results , test_acc"
   ]
  },
  {
   "cell_type": "code",
   "execution_count": 9,
   "metadata": {},
   "outputs": [
    {
     "data": {
      "text/plain": [
       "Namespace(n_layer=5, in_dim=3072, out_dim=10, hid_dim=100, act='relu', lr=0.001, mm=0.9, epochs=32)"
      ]
     },
     "execution_count": 9,
     "metadata": {},
     "output_type": "execute_result"
    }
   ],
   "source": [
    "args"
   ]
  },
  {
   "cell_type": "code",
   "execution_count": 8,
   "metadata": {},
   "outputs": [
    {
     "name": "stdout",
     "output_type": "stream",
     "text": [
      "MLP(\n",
      "  (fc): Linear(in_features=3072, out_features=100, bias=True)\n",
      "  (linears): ModuleList(\n",
      "    (0): Linear(in_features=100, out_features=100, bias=True)\n",
      "    (1): Linear(in_features=100, out_features=100, bias=True)\n",
      "    (2): Linear(in_features=100, out_features=100, bias=True)\n",
      "    (3): Linear(in_features=100, out_features=100, bias=True)\n",
      "  )\n",
      "  (fc2): Linear(in_features=100, out_features=10, bias=True)\n",
      "  (act): ReLU()\n",
      ")\n",
      "Epoch : 1, Train Loss : 2.28, Val Loss : 2.28, Val Acc : 19.79\n",
      "Epoch : 2, Train Loss : 1.96, Val Loss : 2.03, Val Acc : 23.81\n",
      "Epoch : 3, Train Loss : 1.80, Val Loss : 1.89, Val Acc : 30.07\n",
      "Epoch : 4, Train Loss : 1.94, Val Loss : 1.80, Val Acc : 34.13\n",
      "Epoch : 5, Train Loss : 1.89, Val Loss : 1.71, Val Acc : 38.77\n",
      "Epoch : 6, Train Loss : 1.47, Val Loss : 1.62, Val Acc : 41.90\n",
      "Epoch : 7, Train Loss : 1.59, Val Loss : 1.58, Val Acc : 43.21\n",
      "Epoch : 8, Train Loss : 1.65, Val Loss : 1.53, Val Acc : 44.84\n",
      "Epoch : 9, Train Loss : 1.35, Val Loss : 1.50, Val Acc : 46.53\n",
      "Epoch : 10, Train Loss : 1.26, Val Loss : 1.49, Val Acc : 46.69\n",
      "Epoch : 11, Train Loss : 1.58, Val Loss : 1.45, Val Acc : 48.46\n",
      "Epoch : 12, Train Loss : 1.21, Val Loss : 1.42, Val Acc : 49.33\n",
      "Epoch : 13, Train Loss : 1.41, Val Loss : 1.42, Val Acc : 50.05\n",
      "Epoch : 14, Train Loss : 1.05, Val Loss : 1.45, Val Acc : 48.75\n",
      "Epoch : 15, Train Loss : 1.09, Val Loss : 1.42, Val Acc : 50.24\n",
      "Epoch : 16, Train Loss : 1.32, Val Loss : 1.41, Val Acc : 50.80\n",
      "Epoch : 17, Train Loss : 1.24, Val Loss : 1.42, Val Acc : 50.23\n",
      "Epoch : 18, Train Loss : 1.24, Val Loss : 1.44, Val Acc : 50.01\n",
      "Epoch : 19, Train Loss : 0.78, Val Loss : 1.44, Val Acc : 50.49\n",
      "Epoch : 20, Train Loss : 1.08, Val Loss : 1.43, Val Acc : 51.34\n",
      "Epoch : 21, Train Loss : 1.01, Val Loss : 1.45, Val Acc : 51.33\n",
      "Epoch : 22, Train Loss : 1.10, Val Loss : 1.44, Val Acc : 51.44\n",
      "Epoch : 23, Train Loss : 1.14, Val Loss : 1.46, Val Acc : 51.49\n",
      "Epoch : 24, Train Loss : 1.23, Val Loss : 1.47, Val Acc : 51.80\n",
      "Epoch : 25, Train Loss : 0.75, Val Loss : 1.49, Val Acc : 52.22\n",
      "Epoch : 26, Train Loss : 0.74, Val Loss : 1.49, Val Acc : 51.90\n",
      "Epoch : 27, Train Loss : 0.79, Val Loss : 1.54, Val Acc : 50.80\n",
      "Epoch : 28, Train Loss : 0.76, Val Loss : 1.56, Val Acc : 51.31\n",
      "Epoch : 29, Train Loss : 0.63, Val Loss : 1.56, Val Acc : 51.49\n",
      "Epoch : 30, Train Loss : 0.97, Val Loss : 1.55, Val Acc : 51.74\n",
      "Epoch : 31, Train Loss : 0.86, Val Loss : 1.61, Val Acc : 51.33\n",
      "Epoch : 32, Train Loss : 0.82, Val Loss : 1.60, Val Acc : 51.26\n",
      "Test acc : 50.00\n"
     ]
    }
   ],
   "source": [
    "spec_in_training, test_acc = experiment(args)"
   ]
  },
  {
   "cell_type": "code",
   "execution_count": 12,
   "metadata": {},
   "outputs": [],
   "source": [
    "spec_in_training['args'] = args"
   ]
  },
  {
   "cell_type": "code",
   "execution_count": 14,
   "metadata": {},
   "outputs": [
    {
     "data": {
      "text/plain": [
       "<torch._C.Generator at 0x104fbc770>"
      ]
     },
     "execution_count": 14,
     "metadata": {},
     "output_type": "execute_result"
    }
   ],
   "source": [
    "# hyperparameter set\n",
    "# different layer architecture\n",
    "args.n_layer = 3\n",
    "args.hid_dim = 1024\n",
    "args.act = 'relu'\n",
    "args.lr = 0.001\n",
    "args.mm = 0.9\n",
    "args.epochs = 32\n",
    "seed = 42\n",
    "np.random.seed(seed)\n",
    "torch.manual_seed(seed)"
   ]
  },
  {
   "cell_type": "code",
   "execution_count": 15,
   "metadata": {},
   "outputs": [
    {
     "data": {
      "text/plain": [
       "Namespace(n_layer=3, in_dim=3072, out_dim=10, hid_dim=1024, act='relu', lr=0.001, mm=0.9, epochs=32)"
      ]
     },
     "execution_count": 15,
     "metadata": {},
     "output_type": "execute_result"
    }
   ],
   "source": [
    "args"
   ]
  },
  {
   "cell_type": "code",
   "execution_count": 16,
   "metadata": {},
   "outputs": [
    {
     "name": "stdout",
     "output_type": "stream",
     "text": [
      "MLP(\n",
      "  (fc): Linear(in_features=3072, out_features=1024, bias=True)\n",
      "  (linears): ModuleList(\n",
      "    (0): Linear(in_features=1024, out_features=1024, bias=True)\n",
      "    (1): Linear(in_features=1024, out_features=1024, bias=True)\n",
      "  )\n",
      "  (fc2): Linear(in_features=1024, out_features=10, bias=True)\n",
      "  (act): ReLU()\n",
      ")\n",
      "Epoch : 1, Train Loss : 1.93, Val Loss : 1.85, Val Acc : 34.53\n",
      "Epoch : 2, Train Loss : 1.63, Val Loss : 1.67, Val Acc : 40.70\n",
      "Epoch : 3, Train Loss : 1.54, Val Loss : 1.55, Val Acc : 45.08\n",
      "Epoch : 4, Train Loss : 1.23, Val Loss : 1.48, Val Acc : 48.29\n",
      "Epoch : 5, Train Loss : 1.67, Val Loss : 1.43, Val Acc : 49.83\n",
      "Epoch : 6, Train Loss : 1.67, Val Loss : 1.43, Val Acc : 49.95\n",
      "Epoch : 7, Train Loss : 1.20, Val Loss : 1.37, Val Acc : 52.16\n",
      "Epoch : 8, Train Loss : 1.84, Val Loss : 1.38, Val Acc : 51.88\n",
      "Epoch : 9, Train Loss : 1.18, Val Loss : 1.37, Val Acc : 52.29\n",
      "Epoch : 10, Train Loss : 1.07, Val Loss : 1.37, Val Acc : 52.82\n",
      "Epoch : 11, Train Loss : 0.91, Val Loss : 1.37, Val Acc : 52.83\n",
      "Epoch : 12, Train Loss : 1.26, Val Loss : 1.36, Val Acc : 54.86\n",
      "Epoch : 13, Train Loss : 1.34, Val Loss : 1.44, Val Acc : 53.72\n",
      "Epoch : 14, Train Loss : 0.81, Val Loss : 1.42, Val Acc : 53.61\n",
      "Epoch : 15, Train Loss : 0.68, Val Loss : 1.41, Val Acc : 54.32\n",
      "Epoch : 16, Train Loss : 0.83, Val Loss : 1.46, Val Acc : 54.28\n",
      "Epoch : 17, Train Loss : 0.54, Val Loss : 1.47, Val Acc : 55.01\n",
      "Epoch : 18, Train Loss : 0.92, Val Loss : 1.54, Val Acc : 53.68\n",
      "Epoch : 19, Train Loss : 0.62, Val Loss : 1.54, Val Acc : 54.79\n",
      "Epoch : 20, Train Loss : 0.27, Val Loss : 1.59, Val Acc : 54.55\n",
      "Epoch : 21, Train Loss : 0.59, Val Loss : 1.65, Val Acc : 53.98\n",
      "Epoch : 22, Train Loss : 0.70, Val Loss : 1.75, Val Acc : 54.05\n",
      "Epoch : 23, Train Loss : 0.59, Val Loss : 1.79, Val Acc : 54.42\n",
      "Epoch : 24, Train Loss : 0.28, Val Loss : 1.89, Val Acc : 54.17\n",
      "Epoch : 25, Train Loss : 0.13, Val Loss : 1.93, Val Acc : 54.05\n",
      "Epoch : 26, Train Loss : 0.40, Val Loss : 1.92, Val Acc : 54.93\n",
      "Epoch : 27, Train Loss : 0.34, Val Loss : 2.08, Val Acc : 54.52\n",
      "Epoch : 28, Train Loss : 0.29, Val Loss : 2.13, Val Acc : 54.33\n",
      "Epoch : 29, Train Loss : 0.29, Val Loss : 2.34, Val Acc : 53.19\n",
      "Epoch : 30, Train Loss : 0.21, Val Loss : 2.26, Val Acc : 55.02\n",
      "Epoch : 31, Train Loss : 0.16, Val Loss : 2.46, Val Acc : 53.93\n",
      "Epoch : 32, Train Loss : 0.05, Val Loss : 2.41, Val Acc : 54.86\n",
      "Test acc : 52.00\n"
     ]
    }
   ],
   "source": [
    "spec_in_training2, test_acc2 = experiment(args)\n",
    "spec_in_training['args'] = args"
   ]
  },
  {
   "cell_type": "code",
   "execution_count": null,
   "metadata": {},
   "outputs": [],
   "source": []
  }
 ],
 "metadata": {
  "kernelspec": {
   "display_name": "Python 3.10.8 64-bit",
   "language": "python",
   "name": "python3"
  },
  "language_info": {
   "codemirror_mode": {
    "name": "ipython",
    "version": 3
   },
   "file_extension": ".py",
   "mimetype": "text/x-python",
   "name": "python",
   "nbconvert_exporter": "python",
   "pygments_lexer": "ipython3",
   "version": "3.10.8"
  },
  "orig_nbformat": 4,
  "vscode": {
   "interpreter": {
    "hash": "b0fa6594d8f4cbf19f97940f81e996739fb7646882a419484c72d19e05852a7e"
   }
  }
 },
 "nbformat": 4,
 "nbformat_minor": 2
}
